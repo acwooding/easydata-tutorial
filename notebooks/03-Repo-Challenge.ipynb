{
 "cells": [
  {
   "cell_type": "markdown",
   "id": "d988e090",
   "metadata": {},
   "source": [
    "# Stage 3: Where do I go next?"
   ]
  },
  {
   "cell_type": "markdown",
   "id": "b672244e",
   "metadata": {},
   "source": [
    "If you're testing this out...ironically: Skip this...for now.There won't be much if any code parts  here."
   ]
  },
  {
   "cell_type": "markdown",
   "id": "dc740d68",
   "metadata": {},
   "source": [
    "Check that the following cells display the indicated outputs"
   ]
  },
  {
   "cell_type": "code",
   "execution_count": null,
   "id": "c73d114a",
   "metadata": {},
   "outputs": [],
   "source": [
    "from src import Paths"
   ]
  },
  {
   "cell_type": "code",
   "execution_count": null,
   "id": "02de21b9",
   "metadata": {},
   "outputs": [],
   "source": [
    "Paths.instance['project_path']"
   ]
  },
  {
   "cell_type": "code",
   "execution_count": null,
   "id": "7baec9b1",
   "metadata": {},
   "outputs": [],
   "source": [
    "!make"
   ]
  },
  {
   "cell_type": "code",
   "execution_count": null,
   "id": "03c125b0",
   "metadata": {},
   "outputs": [],
   "source": []
  }
 ],
 "metadata": {
  "kernelspec": {
   "display_name": "Python [conda env:easydata-tutorial] *",
   "language": "python",
   "name": "conda-env-easydata-tutorial-py"
  },
  "language_info": {
   "codemirror_mode": {
    "name": "ipython",
    "version": 3
   },
   "file_extension": ".py",
   "mimetype": "text/x-python",
   "name": "python",
   "nbconvert_exporter": "python",
   "pygments_lexer": "ipython3",
   "version": "3.7.11"
  }
 },
 "nbformat": 4,
 "nbformat_minor": 5
}
