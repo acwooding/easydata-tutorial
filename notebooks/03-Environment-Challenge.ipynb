{
 "cells": [
  {
   "cell_type": "markdown",
   "id": "a4d35976",
   "metadata": {},
   "source": [
    "## Stage 3: What do I need to install?\n",
    "Maybe your experience looks like the typical python dependency management (https://xkcd.com/1987/):\n",
    "\n",
    "<img src=https://imgs.xkcd.com/comics/python_environment.png>\n",
    "\n",
    "Furthermore, data science packages can have all sorts of additional non-Python dependencies which makes things even more confusing, and we end up spending more time sorting out our dependencies than doing data science. If you take home nothing else out of this tutorial, learn this stage. I promise. It will save you, and everyone who works with you, many days of your life back.\n",
    "\n"
   ]
  },
  {
   "cell_type": "markdown",
   "id": "a175ea32",
   "metadata": {},
   "source": [
    "### Reproducibility Issues:\n",
    "* (NO-ENVIRONMENT-INSTRUCTIONS) Chicken and egg issue with environments. No environment.yml file or the like. (Even if there are some instructions in a notebook).\n",
    "* (NO-VERSION-PIN) Versions not pinned. E.g. uses a dev branch without a clear indication of when it became released.\n",
    "* (IMPOSSIBLE-ENVIRONMENT) dependencies are not resolvable due to version clashes. (e.g. need <=0.48 and >=0.49)\n",
    "* (ARCH-DIFFERENCE) The same code runs differently on different architectures\n",
    "* (MONOLITHIC-ENVIRONMENT) One environment to rule (or fail) them all. \n"
   ]
  },
  {
   "cell_type": "markdown",
   "id": "1a3af55c",
   "metadata": {},
   "source": [
    "\n",
    "### Default Better Principles\n",
    "* **Use (at least) one virtual environment per repo**: And use the same name for the environment as the repo.\n",
    "* **Generate lock files**: Lock files include every single dependency in your dependency chain. Lock files are necessarily platform specific, so you need one per platform that you support. This way you have a perfect version pin on the environment that you used for that moment in time.\n",
    "* **Check in your environment creation instructions**: That means an `environment.yml` file for conda, and its matching lock file(s). "
   ]
  },
  {
   "cell_type": "markdown",
   "id": "7e2a6077",
   "metadata": {},
   "source": [
    "## The Easydata way: `make create_environment`\n",
    "We like `conda` for environment management since it's the least bad option for most data science workflows. There are no perfect ways of doing this. Here are some basics.\n",
    "\n"
   ]
  },
  {
   "cell_type": "markdown",
   "id": "62c8d72c",
   "metadata": {},
   "source": [
    "### Setting up your environment\n",
    "### clone the repo\n",
    "```\n",
    "   git clone https://github.com/acwooding/easydata-tutorial\n",
    "   cd easydata-tutorial\n",
    "```\n",
    "\n",
    "### Initial setup\n",
    "\n",
    "* **YOUR FIRST TASK OF THIS STAGE***: Check if there is a CONDA_EXE environment variable set with the full path to your conda binary; e.g. by doing the following:\n",
    "\n",
    "```\n",
    "export | grep CONDA_EXE\n",
    "\n",
    "```\n",
    "* **NOTE:** if there is no CONDA_EXE, you will need to find your conda binary and record its location in the CONDA_EXE line of `Makefile.include`\n",
    "\n",
    "Recent versions of conda have made finding the actual binary harder than it should be. This might work:\n",
    "```\n",
    "   >>> which conda\n",
    "   ~/miniconda3/bin/conda\n",
    "```\n",
    "\n",
    "* Create and switch to the virtual environment:\n",
    "```\n",
    "make create_environment\n",
    "conda activate easydata-tutorial\n",
    "make update_environment\n",
    "```\n",
    "\n",
    "Now you're ready to run `jupyter notebook` (or jupyter lab) and explore the notebooks in the `notebooks` directory.\n",
    "\n",
    "From within jupyter, re-open this notebook and run the cells below.\n"
   ]
  },
  {
   "cell_type": "markdown",
   "id": "79be4b60",
   "metadata": {},
   "source": [
    "**Your next Task**: Run the next cell to ensure that the packages got added to the python environment correctly."
   ]
  },
  {
   "cell_type": "code",
   "execution_count": null,
   "id": "be18d8a4",
   "metadata": {},
   "outputs": [],
   "source": [
    "from sklearn.preprocessing import StandardScaler\n",
    "import matplotlib.pyplot as plt\n",
    "import pandas as pd\n",
    "%matplotlib inline"
   ]
  },
  {
   "cell_type": "markdown",
   "id": "53fac01d",
   "metadata": {},
   "source": [
    "### Updating your conda and pip environments\n",
    "The `make` commands, `make create_environment` and `make update_environment` are wrappers that allow you to easily manage your conda and pip environments using a file called `environment.yml` file, which lists the packages you want in your python environment.\n",
    "\n",
    "(If you ever forget which `make` subcommand to run, you can run `make` by itself and it will provide a list of subcommands that are available.)\n",
    "\n",
    "\n",
    "When adding packages to your python environment, **never do a `pip install` or `conda install` directly**. Always edit `environment.yml` and `make update_environment` instead.\n",
    "\n",
    "Your `environment.yml` file will look something like this:\n",
    "```\n",
    "name: easydata-tutorial\n",
    "  - pip\n",
    "  - pip:\n",
    "    - -e .  # conda >= 4.4 only\n",
    "    - python-dotenv>=0.5.1\n",
    "    - nbval\n",
    "    - nbdime\n",
    "    - umap-learn\n",
    "    - gdown\n",
    "    - # Add more pip dependencies here\n",
    "  - setuptools\n",
    "  - wheel\n",
    "  - git>=2.5  # for git worktree template updating\n",
    "  - sphinx\n",
    "  - bokeh\n",
    "  - click\n",
    "  - colorcet\n",
    "  - coverage\n",
    "  - coveralls\n",
    "  - datashader\n",
    "  - holoviews\n",
    "  - matplotlib\n",
    "  - jupyter\n",
    "  - # Add more conda dependencies here\n",
    "...\n",
    "```\n",
    "Notice you can add conda and pip dependencies separately. For good reproducibility, we recommend you always try and use the conda version of a package if it is available.\n",
    "\n",
    "Once you're done your edits, run `make update_environment` and voila, your python environment is up to date.\n",
    "\n",
    "**Git Bonus Task:** To save or share your updated environment, check in your `environment.yml` file using git.\n"
   ]
  },
  {
   "cell_type": "markdown",
   "id": "bf107eeb",
   "metadata": {},
   "source": [
    "**YOUR NEXT TASK** in the Quest: Updating your python environment to include the `seaborn` package. But first, a quick tip with using `conda` environments in notebooks:"
   ]
  },
  {
   "cell_type": "markdown",
   "id": "3535b501",
   "metadata": {},
   "source": [
    "#### Using your conda environment in a jupyter notebook\n",
    "If you make a new notebook, and your packages don't seem to be available, make sure to select the `easydata-tutorial` Kernel from within the notebook. If you are somehow in another kernel, select **Kernel -> Change kernel -> Python[conda env:easydata-tutorial]**. If you don't seem to have that option, make sure that you ran `jupyter notebooks` with the `easydata-tutorial` conda environment enabled, and that `which jupyter` points to the correct (`easydata-tutorial`) version of jupyter.\n",
    "\n",
    "You can see what's in your notebook's conda environment by putting the following in a cell and running it:"
   ]
  },
  {
   "cell_type": "code",
   "execution_count": null,
   "id": "6b61ac24",
   "metadata": {},
   "outputs": [],
   "source": [
    "%conda info"
   ]
  },
  {
   "cell_type": "markdown",
   "id": "75e70fd9",
   "metadata": {},
   "source": [
    "Another useful cell to include is the following.\n",
    "\n",
    "If you want your environment changes to be immediately available in your running notebooks, make sure to run a notebook cell containing:"
   ]
  },
  {
   "cell_type": "code",
   "execution_count": null,
   "id": "9e0948b4",
   "metadata": {},
   "outputs": [],
   "source": [
    "%load_ext autoreload\n",
    "%autoreload 2"
   ]
  },
  {
   "cell_type": "markdown",
   "id": "f07acbc6",
   "metadata": {},
   "source": [
    "If you did your task correctly, the following import will succeed."
   ]
  },
  {
   "cell_type": "code",
   "execution_count": null,
   "id": "22b3e7bf",
   "metadata": {},
   "outputs": [],
   "source": [
    "import seaborn as sns"
   ]
  },
  {
   "cell_type": "markdown",
   "id": "43f5f211",
   "metadata": {},
   "source": [
    "Remember, you should **never** do a `pip install` or `conda install` manually. You want to make sure your environment changes are saved to your data science repo. Instead, edit `environment.yml` and do a `make update_environment`."
   ]
  },
  {
   "cell_type": "markdown",
   "id": "ceb92b88",
   "metadata": {},
   "source": [
    "Your **NEXT TASK of this stage**: Run `make env_challenge` and follow the instructions if it works."
   ]
  },
  {
   "cell_type": "markdown",
   "id": "963654d7",
   "metadata": {},
   "source": [
    "### BONUS Task: Lockfiles\n",
    "* Do this if there's time *\n",
    "\n",
    "Lockfiles are a way of separating the list of \"packages I want\" from \"packages I need to install to make everything work\". For reproducibility reasons, we want to keep track of both files, but not in the same place. Usually, this separating is done with something called a \"lockfile.\"\n",
    "\n",
    "Unlike several other virtual environment managers, conda doesn't have lockfiles. To work around this limitation, Easydata generates a basic lockfile from `environment.yml` whenever you run `make update_environment`.\n",
    "\n",
    "This lockfile is a file called `environment.{$ARCH}.lock.yml` (e.g. `environment.i386.lock.yml`). This file keeps a record of the exact environment that is currently installed in your conda environment `easydata-tutorial`. If you ever need to reproduce an environment exactly, you can install from the `.lock.yml` file. (Note: These are architecture dependent, so don't expect a mac lockfile to work on linux, and vice versa).\n",
    "\n",
    "For more instructions on setting up and maintaining your python environment (including how to point your environment at your custom forks and work in progress) see [Setting up and Maintaining your Conda Environment Reproducibly](../reference/easydata/conda-environments.md).\n",
    "\n",
    "\n",
    "**Your BONUS Task** in the Quest: Take a look at the lockfile, and compare it's content to `environment.yml`. Then ask yourself, \"aren't I glad I don't have to maintain this list manually?\" "
   ]
  },
  {
   "cell_type": "code",
   "execution_count": null,
   "id": "ad253828",
   "metadata": {},
   "outputs": [],
   "source": []
  }
 ],
 "metadata": {
  "kernelspec": {
   "display_name": "Python [conda env:easydata-tutorial] *",
   "language": "python",
   "name": "conda-env-easydata-tutorial-py"
  },
  "language_info": {
   "codemirror_mode": {
    "name": "ipython",
    "version": 3
   },
   "file_extension": ".py",
   "mimetype": "text/x-python",
   "name": "python",
   "nbconvert_exporter": "python",
   "pygments_lexer": "ipython3",
   "version": "3.7.11"
  }
 },
 "nbformat": 4,
 "nbformat_minor": 5
}
