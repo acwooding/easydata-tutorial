{
 "cells": [
  {
   "cell_type": "markdown",
   "id": "a4d35976",
   "metadata": {},
   "source": [
    "## Stage 3: What do I need to install?\n",
    "Typical python dependency management (https://xkcd.com/1987/):\n",
    "\n",
    "<img src=https://imgs.xkcd.com/comics/python_environment.png>\n",
    "\n",
    "Add in data science packages that have all sorts of additional non-Python dependencies and we end up spending more time sorting out our dependencies than doing data science. If you take home nothing else out of this tutorial, learn this stage. I promise. It will save you, and everyone who works with you, many days of your life back.\n",
    "\n"
   ]
  },
  {
   "cell_type": "markdown",
   "id": "a175ea32",
   "metadata": {},
   "source": [
    "### Reproducibility Issues:\n",
    "* (NO-ENVIRONMENT-INSTRUCTIONS) Chicken and egg issue with environments. No environment.yml file or the like. (Even if there are some instructions in a notebook).\n",
    "* (NO-VERSION-PIN) Versions not pinned. E.g. uses a dev branch without a clear indication of when it became released.\n",
    "* (HARDCODED-PATH) A file contains a hardcoded path, so the project will not run elsewhere without manual editing\n",
    "* (IMPOSSIBLE-ENVIRONMENT) dependencies are not resolvable due to version clashes. (e.g. need <=0.48 and >=0.49)\n",
    "* (ARCH-DIFFERENCE) The same code runs differently on different architectures\n",
    "* (MONOLITHIC-ENVIRONMENT) One environment to rule (or fail) them all. \n"
   ]
  },
  {
   "cell_type": "markdown",
   "id": "7e2a6077",
   "metadata": {},
   "source": [
    "## The Easydata way\n",
    "We like `conda` for environment management since it's the least bad option for most data science workflows. There are no perfect ways of doing this. Here are some basics.\n",
    "\n",
    "\n",
    "### Default Better Principles\n",
    "* **Use (at least) one virtual environment per repo**: And use the same name for the environment as the repo.\n",
    "* **Generate lock files**: Lock files include every single dependency in your dependency chain. Lock files are necessarily platform specific, so you need one per platform that you support. This way you have a perfect version pin on the environment that you used for that moment in time.\n",
    "* **Check in your environment creation instructions**: That means an `environment.yml` file for conda, and its matching lock file(s). \n",
    "* **Always use relative paths** All paths that you use in your code should be relative paths and not hardcoded.\n",
    "\n"
   ]
  },
  {
   "cell_type": "markdown",
   "id": "5184965d",
   "metadata": {},
   "source": [
    "First, a cell that lets us reload without having to kill the kernel."
   ]
  },
  {
   "cell_type": "code",
   "execution_count": null,
   "id": "8c946c5e",
   "metadata": {},
   "outputs": [],
   "source": [
    "%load_ext autoreload\n",
    "%autoreload 2"
   ]
  },
  {
   "cell_type": "markdown",
   "id": "62c8d72c",
   "metadata": {},
   "source": [
    "Now, try the followng imports."
   ]
  },
  {
   "cell_type": "code",
   "execution_count": null,
   "id": "be18d8a4",
   "metadata": {},
   "outputs": [],
   "source": [
    "from sklearn.preprocessing import StandardScaler\n",
    "import matplotlib.pyplot as plt\n",
    "import pandas as pd\n",
    "import seaborn as sns\n",
    "%matplotlib inline"
   ]
  },
  {
   "cell_type": "markdown",
   "id": "53fac01d",
   "metadata": {},
   "source": [
    "Follow the instructions found in `reference/easydata/conda-environment.md` to update the environment to include all of the above imports (or troubleshoot it if necessary). "
   ]
  },
  {
   "cell_type": "markdown",
   "id": "63ad7ac5",
   "metadata": {},
   "source": [
    "## Local Paths\n",
    "\n",
    "Easydata makes all paths relative to the base project path using the `Pathlib` library and a local configuration file: `catalog/config.ini `. By the way, `Pathlib` is also an awesome way to manage paths across platforms. "
   ]
  },
  {
   "cell_type": "code",
   "execution_count": null,
   "id": "05a9ee75",
   "metadata": {},
   "outputs": [],
   "source": [
    "from src import paths"
   ]
  },
  {
   "cell_type": "code",
   "execution_count": null,
   "id": "45eab41c",
   "metadata": {},
   "outputs": [],
   "source": [
    "paths"
   ]
  },
  {
   "cell_type": "markdown",
   "id": "5743bcb3",
   "metadata": {},
   "source": [
    "Modify the `catalog/config.ini` to include the path to our `quest` directory. That is, we want `paths['quest_path']` to be "
   ]
  },
  {
   "cell_type": "code",
   "execution_count": null,
   "id": "249db455",
   "metadata": {},
   "outputs": [],
   "source": [
    "paths['project_path'] / 'quest'"
   ]
  },
  {
   "cell_type": "markdown",
   "id": "06c72360",
   "metadata": {},
   "source": [
    "Run `make env_challenge` to complete this Challenge."
   ]
  }
 ],
 "metadata": {
  "kernelspec": {
   "display_name": "Python [conda env:easydata-tutorial] *",
   "language": "python",
   "name": "conda-env-easydata-tutorial-py"
  },
  "language_info": {
   "codemirror_mode": {
    "name": "ipython",
    "version": 3
   },
   "file_extension": ".py",
   "mimetype": "text/x-python",
   "name": "python",
   "nbconvert_exporter": "python",
   "pygments_lexer": "ipython3",
   "version": "3.7.11"
  }
 },
 "nbformat": 4,
 "nbformat_minor": 5
}
