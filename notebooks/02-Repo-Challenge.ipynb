{
 "cells": [
  {
   "cell_type": "markdown",
   "id": "519a31e6",
   "metadata": {},
   "source": [
    "# Stage 2: Where do I go next?\n",
    "\n",
    "Have you ever wondered:\n",
    "\n",
    "* Where did I leave off?\n",
    "* What needs to get done next?\n",
    "* Where do I find that again?\n",
    "\n",
    "If so, this stage of the Quest is for you.\n",
    "\n",
    "## Reproducibility Issues\n",
    "* (WHERE-WAS-THAT): Difficulty finding where you put that file or that work? `My-Notebook-Copy-4.ipynb` maybe? or was it `My-Notebook-Copy-2.ipynb`? `ouput.png`? What was that magical sequence of commands?\n",
    "* (MY-DOG-ATE-MY-HOMEWORK): Anything not checked in to a repo. Your computer died and took everything with it.\n",
    "* (GIT-NIGHTMARE): A git snotball of a mess. Complicated merge conflicts. Mostly caused by underlying git workflow issues.\n",
    "\n",
    "\n",
    "## Default Better Principles\n",
    "On most data science projects, we don't need all of software engineering, but some of it really comes in handy. Especially when it comes to saving things for future retrieval, and avoiding the awkward \"my computer ate my homework\" moments. Git+GitHub works great for this. So do default project organization schemes. And intentional default workflows.\n",
    "\n",
    "* **Use a default project/repo organization**: Putting the same kinds of things in the same places accross all of your projects means that there's one less thing to think about.\n",
    "* **Make automated workflows**: If you do the same things over and over again, automate them and improve them. Sometimes using code. Sometimes using habits.\n",
    "* **Leave a bread crumb trail with revision control**: Always save your work. This is the way to do it with code. Even better...\n",
    "* **Use a collaborative git+GitHub workflow**: Tools like GitHub exist to make mutli-user git workflows not suck. In fact, with some basic conventions in place with your collaborators, it can make working together on code great.\n",
    "\n",
    "## The Easydata Way: `make` and the default project organization\n",
    "\n",
    "### `make` your default workflow automated\n",
    "\n",
    "Easydata comes with an autodocumenting `Makefile`. Again, we've been using this feature throughout this Quest. In particular, if you add a command to the Makefile and add a comment for what that command does with ##, it will automatically populate the make menu. This is a lifesaver when it comes to automating tasks that you do repeatedly. \n",
    "Go ahead and try it.\n",
    "\n",
    "Run `make` to see the `make menu`.\n",
    "\n",
    "## Project Organization\n",
    "One of the features we love about orginally basing Easydata off of cookiecutter-datascience is the thoughtful project organization structure and description that it automagically includes as part of the README file. We love that. And while we've made our own tweaks, we haven't strayed far from the original. Every Easydata repo comes with a default project organization so you never evey have to think about where to find something.\n",
    "\n",
    "**Next stop**: explore the (mostly) default Easydata project organization at the bottom of the `README.md` for this repo. If you look closely, you'll find the next task on your Quest for Reproducibility.\n"
   ]
  },
  {
   "cell_type": "markdown",
   "id": "05fe5780",
   "metadata": {},
   "source": [
    "### BONUS: Use a `git-workflow.md` \n",
    "\n",
    "We are using `git`+GitHub for this repo and we love it. GitHub is pretty much the standard open-source tool for repo revision control and managing multi-user workflows. Just because you have a tool, it doesn't define your workflow for you. You get to choose. Pick your shared `git` workflow, and iterate when need be.\n",
    "\n",
    "In our experience through many workshops, one of the biggest barriers to using multi-user git is the anxiety about what and how to do things. Where did things go when I changed branches? How do I resolve merge conflicts? How do I use a workflow that helps to resolve the nastiest merge conflicts?\n",
    "\n",
    "Yes, it can be tricky, but it doesn't have to once you get used to a few best practices and habits with git, and when you follow a shared multi-user git workflow.\n",
    "\n",
    "We aren't going to cover `git`+GitHub workflows today, but we do have our Easydata opinions. There is a BONUS challenge using git that can be done after the tutorial (or if you're doing this at your own pace).\n",
    "\n",
    "For the BONUS Challenge, head over to `reference/easydata/git-configuration.md` to get your git set up and and then reference this handy [Git Workflow Cheat Sheet](../reference/easydata/git-workflow.md) to keep your working copy of the repo in sync with the others. No need to look too carefully, just take a browse and make sure you know where to find it.\n"
   ]
  }
 ],
 "metadata": {
  "kernelspec": {
   "display_name": "Python [conda env:easydata-tutorial] *",
   "language": "python",
   "name": "conda-env-easydata-tutorial-py"
  },
  "language_info": {
   "codemirror_mode": {
    "name": "ipython",
    "version": 3
   },
   "file_extension": ".py",
   "mimetype": "text/x-python",
   "name": "python",
   "nbconvert_exporter": "python",
   "pygments_lexer": "ipython3",
   "version": "3.7.11"
  }
 },
 "nbformat": 4,
 "nbformat_minor": 5
}
