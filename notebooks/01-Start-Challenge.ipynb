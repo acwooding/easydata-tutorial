{
 "cells": [
  {
   "cell_type": "markdown",
   "id": "0eb80c0a",
   "metadata": {},
   "source": [
    "# Stage 1: Where do I start?\n",
    "\n",
    "At the very beginning of everything is, well, the beginning. If I can't find an accessible place to start, no matter how wonderful or worthwhile someone's work is, and no matter how committed I am, I won't make it past the start line.\n",
    "\n",
    "Now, for our first few reproducibility issues.\n",
    "\n",
    "### Reproducibility Issues\n",
    "* (NO-README): There is no README file. Enough said.\n",
    "* (WHERE-DO-I-START): The README doesn't say where to start. Or indicate basic dependencies.\n",
    "* (NO-CODE-LICENSE): No license on source code.\n",
    "\n",
    "### Default Better\n",
    "\n",
    "The developer world has conventions that dictate where to start. Like saying \"Hello\". In the code world, a [README] (or README.md) file is your way to say \"Hello\". In fact, on GitHub, you don't even have to remember this the README.md file displays up front when you open the URL for a repo (same with GitLab or Bitbucket, but for simplicity throughout we'll simply refer to GitHub).\n",
    "\n",
    "The [README] is your chance to say something like:\n",
    "\n",
    "* Welcome! Please come in.\n",
    "* Danger! We're actively undergoing major construction, put on your hard hat and help us out.\n",
    "* Do not Enter! No Trespassing. Stay away. Don't bother looking at what's here.\n",
    "\n",
    "#### Principles\n",
    "* **Give starting instructions in a README**: Welcome your users. Include:\n",
    "  * **A basic description**: what can they expect? Is this a finished project, a work in progress (WIP), a place to dump your code that you don't want anyone to look in (like your underwear drawer)?\n",
    "  * **Instructions for what to install**: Let people know what dependencies are required and how to get started by letting them know what you use: a `requirements.txt` file, and `environment.yml` (which we'll see later). Also, if you only support certain platforms/architectures, it's nice to let folks know before they try to set up and fail that you don't their compute setup.\n",
    "  * **The next step**: Include what you expect someone to do next once they finish reading the README.\n",
    "* **Add a code license**: We especially like stardard open-source licenses like the default options in GitHub. Without a license, the default in many places is that your work is copywrited and proprietary if there is no license. And even if your work is proprietary, say so. Failing to license your work is the easiest way to hang a \"DO NOT ENTER\" sign accidentally.\n",
    "\n",
    "## The Easydata Way: README and LICENSE by default\n",
    "\n",
    "The Easydata way to indicate the start line is the \"simple, sleep-deprived, I don't have to think about it way\". Whenever possible, make where and how to start as easy and frictionless as possible.\n",
    "\n",
    "When you create an Easydata repo, we get you started and make sure that you don't forget to include your welcome. By default, setting up an Easydata repo prompts you for a:\n",
    "\n",
    "* Project Name\n",
    "* Project Description\n",
    "* Author Name\n",
    "* Open-source License\n",
    "\n",
    "and generates a `README.md` file and `LICENSE` file from your answers.\n",
    "\n",
    "\n",
    "**Your First Task of the Reproducibility Quest:** Take a close look at the [README.md][README] file for this repo. Follow the instructions to make sure your basic setup is complete. The [README] is the place to start before continuing on any Quest for Reproducibility.\n",
    "\n",
    "[README]: https://github.com/acwooding/easydata-tutorial/blob/main/README.md\n",
    "\n",
    "\n",
    "**Your Next Task**: And while you're testing out your setup, take a look at the auto-generated [LICENSE] for this project to find out what you're allowed to do with the contents of this repo, and where you should be going next.\n",
    "\n",
    "[LICENSE]: https://github.com/acwooding/easydata-tutorial/blob/main/LICENSE\n"
   ]
  },
  {
   "cell_type": "code",
   "execution_count": null,
   "id": "51b6ad41",
   "metadata": {},
   "outputs": [],
   "source": []
  }
 ],
 "metadata": {
  "kernelspec": {
   "display_name": "Python [conda env:easydata-tutorial] *",
   "language": "python",
   "name": "conda-env-easydata-tutorial-py"
  },
  "language_info": {
   "codemirror_mode": {
    "name": "ipython",
    "version": 3
   },
   "file_extension": ".py",
   "mimetype": "text/x-python",
   "name": "python",
   "nbconvert_exporter": "python",
   "pygments_lexer": "ipython3",
   "version": "3.7.11"
  }
 },
 "nbformat": 4,
 "nbformat_minor": 5
}
