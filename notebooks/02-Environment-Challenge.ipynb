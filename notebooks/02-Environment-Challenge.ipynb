{
 "cells": [
  {
   "cell_type": "markdown",
   "id": "a4d35976",
   "metadata": {},
   "source": [
    "## Stage 2: What do I need to install?\n",
    "\n",
    "Reproducibility Bugs/UX issues:\n",
    "* NO-ENVIRONMENT-INSTRUCTIONS: environment.yml, requirements.txt\n",
    "* NO-VERSION-PIN: lock files\n",
    "* IMPORTS-THROUGHOUT: imports at the top of a file/notebook (run a long computation, crash partway, nice UX for users)\n",
    "* HARDCODED-PATHS: my_file.csv\n",
    "* IMPOSSIBLE-ENVIRONMENT: dependencies that can't be resolved.\n",
    "\n",
    "## Reproducible and Upgradable"
   ]
  },
  {
   "cell_type": "markdown",
   "id": "310d93b7",
   "metadata": {},
   "source": [
    "## Managing conda environments the Easydata way\n",
    "\n",
    "**Task** Use the `environment.yml` to get to manage an `easydata-tutorial` conda environment. \n",
    "\n",
    "First, follow the instructions found in `reference/easydata/getting-started.md` to create your environment. \n",
    "\n",
    "Try the following import. "
   ]
  },
  {
   "cell_type": "code",
   "execution_count": null,
   "id": "be18d8a4",
   "metadata": {},
   "outputs": [],
   "source": [
    "from sklearn.preprocessing import StandardScaler\n",
    "import matplotlib.pyplot as plt\n",
    "import seaborn as sns\n",
    "import pandas as pd\n",
    "%matplotlib inline"
   ]
  },
  {
   "cell_type": "markdown",
   "id": "92c5fabf",
   "metadata": {},
   "source": [
    "Follow the instructions found in `reference/easydata/conda-environment.md` to update the environment to include all of the above imports (or troubleshoot it if necessary). "
   ]
  },
  {
   "cell_type": "code",
   "execution_count": null,
   "id": "e92a796f",
   "metadata": {},
   "outputs": [],
   "source": [
    "## Instructions for adding a package"
   ]
  },
  {
   "cell_type": "code",
   "execution_count": null,
   "id": "d6a7d336",
   "metadata": {},
   "outputs": [],
   "source": []
  }
 ],
 "metadata": {
  "kernelspec": {
   "display_name": "Python [conda env:easydata-tutorial] *",
   "language": "python",
   "name": "conda-env-easydata-tutorial-py"
  },
  "language_info": {
   "codemirror_mode": {
    "name": "ipython",
    "version": 3
   },
   "file_extension": ".py",
   "mimetype": "text/x-python",
   "name": "python",
   "nbconvert_exporter": "python",
   "pygments_lexer": "ipython3",
   "version": "3.7.11"
  }
 },
 "nbformat": 4,
 "nbformat_minor": 5
}
