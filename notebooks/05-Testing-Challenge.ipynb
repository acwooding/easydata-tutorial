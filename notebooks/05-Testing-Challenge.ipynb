{
 "cells": [
  {
   "cell_type": "markdown",
   "id": "4e4e71e9",
   "metadata": {},
   "source": [
    "# Stage 5: Does it work as expected?\n",
    "\n",
    "The analysis is done. The results are in. They look good. It's time to share with someone else, and maybe more than my future self. \n",
    "\n",
    "* How easy is it for someone else to run my code? \n",
    "* How likely are they to get the same results?\n",
    "* How hard is it for someone else to check that things work as expected?"
   ]
  },
  {
   "cell_type": "markdown",
   "id": "023514a1",
   "metadata": {},
   "source": [
    "### Reproducibility Issues\n",
    "\n",
    "* (MISSING-STATE) Can't reproduce because of some missing state. e.g. cells were run out of sequence. Variable was changed but notebook wasn't rerun.\n",
    "* (VARIABLE-SCARCITY) A variable name was re-used (possibly as a result of copy/pasting code from elsewhere), setting up cognitive dissonance, or confusing code.\n",
    "* (ARCH-DIFFERENCE) The same code runs differently on different architectures"
   ]
  },
  {
   "cell_type": "markdown",
   "id": "cbae8413",
   "metadata": {},
   "source": [
    "### Default Better Principles\n",
    "\n",
    "Write tests. Use them. Even if only to check that your imports work, Datasets load, and notebooks run to completion.\n",
    "* **Test running clean notebooks**: We can't say this enough. Always test a clean run of a notebook before checking it in! `Kernel -> Restart & Run All` for the win. Most if not all `MISSING-STATE` and `VARIABLE-SCARCITY` issues would be resolved by this simple workflow step. Automate this to make it even easier. Running analysis steps can be slow. Make the slow ones manual tests, and the quick ones, like this notebook, run in CI. \n",
    "* **Test run from a fresh environment**: Blow it away. Start from scratch. See if you have any unaccounted for `MISSING-STATE` hiding in your environment.\n",
    "* **BONUS-Test on another architecture**: This is where CI is your friend. It's usually easy to run on at least one platform that's different from your own."
   ]
  },
  {
   "cell_type": "markdown",
   "id": "5277eeb0",
   "metadata": {},
   "source": [
    "## The Easydata Way: `make test`\n",
    "We recognize that being creative is an integral part of doing data science work and research. We don't want to get in the way of that. In particular, we don't specify how you should do your work in the brainstorming phase (other than recommending that you check-in your work via git whenever something seems to work).\n",
    "\n",
    "We love test-driven development, but we're agnostic about it's use with your data science workflow. This isn't software engineering, this is data science. However, once you hit the editing phase of your work, once you start to put together something beyond a scattered Sucky First Draft (SFD), it's time to start wearing that SEng hat. And if you care about sharing with your data science neighbours and friends, testing is paramount. \n",
    "\n",
    "Let's see what this looks like in our Penguin Example."
   ]
  },
  {
   "cell_type": "markdown",
   "id": "6e68f14d",
   "metadata": {},
   "source": [
    "## The Penguin Data Analysis\n",
    "\n",
    "The previous notebook gives us some idea of what the penguins data looks like by giving as all the\n",
    "2D views of the data. However, the data is 4-dimensional. While four dimensions is low enough that we can sort of reconstruct what the full dimensional data looks like in our heads, it's better if we can reduce the dimension of our data to visualize it. \n",
    "\n",
    "Let's try out [UMAP](https://github.com/lmcinnes/umap) as a dimension reduction technique. By reducing the\n",
    "dimension in a way that preserves as much of the structure of the data\n",
    "as possible we can get a visualisable representation of the data\n",
    "allowing us to \"see\" the data and its structure and begin to get some\n",
    "intuition about the data itself."
   ]
  },
  {
   "cell_type": "markdown",
   "id": "7b232101",
   "metadata": {},
   "source": [
    "### Default Better Principle: Test run from a fresh environment\n"
   ]
  },
  {
   "cell_type": "code",
   "execution_count": null,
   "id": "e76ff3df",
   "metadata": {},
   "outputs": [],
   "source": [
    "import umap\n",
    "\n",
    "from src.data import Dataset\n",
    "from src import paths\n",
    "\n",
    "import matplotlib.pyplot as plt\n",
    "import seaborn as sns\n",
    "%matplotlib inline"
   ]
  },
  {
   "cell_type": "markdown",
   "id": "073b4211",
   "metadata": {},
   "source": [
    "Turns out, we're missing `umap`! If you `pip install` or `conda install` UMAP from the command line, it will lead to **MISSING-STATE** in your environment when you test run your work from your own machine. Instead, let's add `umap-learn` to our `environment.yml` file to avoid this bug."
   ]
  },
  {
   "cell_type": "markdown",
   "id": "479e0e4e",
   "metadata": {},
   "source": [
    "**Hint:** To add [UMAP](https://github.com/lmcinnes/umap), you'll need to update your environment. We recommend installing umap via the conda-forge channel. For example, you can add `my-package` to from `my-conda-channel` via a line like this in your `environment.yml`.\n",
    "```\n",
    "- my-conda-channel::my-package\n",
    "```\n",
    "In this case:\n",
    "```\n",
    "- conda-forge::umap-learn\n",
    "```\n",
    "And don't forget to `make update_environment` after adding it!"
   ]
  },
  {
   "cell_type": "markdown",
   "id": "959c5f23",
   "metadata": {},
   "source": [
    "## Load up the Datasets we'll use"
   ]
  },
  {
   "cell_type": "code",
   "execution_count": null,
   "id": "a362b35d",
   "metadata": {},
   "outputs": [],
   "source": [
    "penguins = Dataset.load(\"penguins-clean\").data\n",
    "scaled_penguin_data = Dataset.load(\"penguins-scaled\").data"
   ]
  },
  {
   "cell_type": "markdown",
   "id": "a4dac6fd",
   "metadata": {},
   "source": [
    "UMAP follows the sklearn API and has a method ``fit`` which we\n",
    "pass the data we want the model to learn from. Since, at the end of the\n",
    "day, we are going to want to reduced representation of the data we will\n",
    "use the ``fit_transform`` method which first calls ``fit`` and\n",
    "then returns the transformed data as a numpy array."
   ]
  },
  {
   "cell_type": "code",
   "execution_count": null,
   "id": "c0b7e877",
   "metadata": {},
   "outputs": [],
   "source": [
    "reducer = umap.UMAP()"
   ]
  },
  {
   "cell_type": "code",
   "execution_count": null,
   "id": "8b9f2204",
   "metadata": {},
   "outputs": [],
   "source": [
    "embedding = reducer.fit_transform(scaled_penguin_data)\n",
    "embedding.shape"
   ]
  },
  {
   "cell_type": "markdown",
   "id": "9e9c3ee7",
   "metadata": {},
   "source": [
    "The result is an array with 334 samples, but only two feature columns\n",
    "(instead of the four we started with). This is because, by default, UMAP\n",
    "reduces down to 2D. Each row of the array is a 2-dimensional\n",
    "representation of the corresponding penguin. Thus we can plot the\n",
    "``embedding`` as a standard scatterplot and color by the target array\n",
    "(since it applies to the transformed data which is in the same order as\n",
    "the original)."
   ]
  },
  {
   "cell_type": "code",
   "execution_count": null,
   "id": "297fc967",
   "metadata": {},
   "outputs": [],
   "source": [
    "plt.scatter(\n",
    "    embedding[:, 0], \n",
    "    embedding[:, 1], \n",
    "    c=[sns.color_palette()[x] for x in penguins.species_short.map({\"Adelie\":0, \"Chinstrap\":1, \"Gentoo\":2})])\n",
    "plt.gca().set_aspect('equal', 'datalim')\n",
    "plt.title(f'UMAP projection of the Penguin dataset, fontsize=12')"
   ]
  },
  {
   "cell_type": "markdown",
   "id": "2649abba",
   "metadata": {},
   "source": [
    "### Reference image\n",
    "Here what we got for the image in the previous cell. According to your eye-ball test, did you get the expected results? Does your image look similar? Exactly the same?\n",
    "<img src=\"../reports/figures/umap_penguins_42_reference.png\" width=500 height=400 />\n"
   ]
  },
  {
   "cell_type": "markdown",
   "id": "55422ad7",
   "metadata": {},
   "source": [
    "## It's Test Time\n",
    "\n",
    "First let's see what happens if we run things from a clean notebook and evnironment!"
   ]
  },
  {
   "cell_type": "markdown",
   "id": "cfaaf541",
   "metadata": {},
   "source": [
    "### Default Better Principle: Test running clean notebooks\n",
    "There were a bunch of **MISSING-STATE** and **VARIABLE-SCARCITY** bugs in this Notebook to start with. Did you fix them all? Try testing it now.\n",
    "```\n",
    "Kernel -> Restart & Run All\n",
    "```"
   ]
  },
  {
   "cell_type": "markdown",
   "id": "95ca46ef",
   "metadata": {},
   "source": [
    "### Default Better Principle: Test run from a fresh environment\n",
    "You could have used `pip install umap-learn` or `conda install -c conda-forge umap-learn` UMAP from the command line. This would lead to **MISSING-STATE** in your environment when you test run your work from your own machine. To check that you don't have state hiding in your environment that you didn't add to your `environment.yml` run the following:\n",
    "\n",
    "```\n",
    "conda deactivate\n",
    "make delete_environment\n",
    "make create_environment\n",
    "conda activate easydata-tutorial\n",
    "make update_environment\n",
    "```\n",
    "Then, finally, try the full Notebook run again:\n",
    "```\n",
    "Kernel -> Restart & Run All\n",
    "```\n",
    "\n",
    "**Fun Fact** Easydata has a built in `run_notebook` utility function. It's perfect for automating testing of notebook runs."
   ]
  },
  {
   "cell_type": "markdown",
   "id": "fc21594f",
   "metadata": {},
   "source": [
    "### Default Better Principle: Have unit tests and continuous integration (CI) tests\n",
    "\n",
    "Easydata makes it easy for you to run your tests via `make test`. By default it locally runs all tests (slow and CI), and in CI, it only runs CI tests (so you can separate your fast/slow/necessarily local tests). \n",
    "\n",
    "Give it a go. `make test` now.\n",
    "\n",
    "If you passed `make test` continue on to complete this challenge."
   ]
  },
  {
   "cell_type": "markdown",
   "id": "e5c56b83",
   "metadata": {},
   "source": [
    "## Complete the challenge\n",
    "Fingers crossed, now that things are tested from scratch, everything actually now works as expected. Let's find out. \n",
    "\n",
    "\n",
    "Run `make test_challenge` to check that you've completed the challenge and continue with your reproducibility quest."
   ]
  }
 ],
 "metadata": {
  "kernelspec": {
   "display_name": "Python [conda env:easydata-tutorial] *",
   "language": "python",
   "name": "conda-env-easydata-tutorial-py"
  },
  "language_info": {
   "codemirror_mode": {
    "name": "ipython",
    "version": 3
   },
   "file_extension": ".py",
   "mimetype": "text/x-python",
   "name": "python",
   "nbconvert_exporter": "python",
   "pygments_lexer": "ipython3",
   "version": "3.7.11"
  }
 },
 "nbformat": 4,
 "nbformat_minor": 5
}
