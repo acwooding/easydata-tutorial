{
 "cells": [
  {
   "cell_type": "markdown",
   "id": "f85d7557",
   "metadata": {},
   "source": [
    "## Stage 6: What's the point?\n",
    "\n",
    "At the end of the day, if someone else is trying to reproduce our work in any way, there must be a reason for it. Help them out. Make it easy for them to get to the point. We want reproducible results. So get to the results and help them to shine through the noice of all the technical details needed to get there. \n",
    "\n",
    "How many times do we say things like: X is my priority, and then give all of our time, energy, thought and resources to Y instead of X?\n",
    "\n",
    "We're all guilty of this at times with our code bases. If our results are the point of our work, why do we obscure the results by filling notebooks with utility and helper functions, code for munging the data, and otherwise exposing the gory guts of our methods to someone who just wants to get the point of the results and how we got there? Yes, please, include everything that's needed to get to the results, that's what we're after, reproducibility. But how do we keep things reproducible without making the through-line impossible to find?\n",
    "\n",
    "## Reproducibility Issues\n",
    "* (DOCUMENTATION-BUGS): A documentation bug is an error in documentation or missing documentation. Missing documentation is any explanation in prose form that you're looking for but can't find. \n",
    "    * (NO-DOCSTRINGS): Functions without docstrings, a subcategory of documentation bugs.\n",
    "* (THE-KITCHEN-SINK): Code and prose are mixed in a monolithic notebook. Utility scripts are mixed into the main narrative. Everything's in that notebook, including the kitchen sink.\n",
    "* (TL;DR): Documentation and/or code is too long and confusing. Get to the point. Every joke needs a punch line. Every story needs a climax. Every repo needs a raison d'etre.\n",
    "* (HARD-TO-FOLLOW): Everything is technically there. But it's hard to figure out how to piece it all together. What needs to be run first? What order do things need to be run in? Is it a quest to figure out the next step?\n",
    "    * (NO-NOTEBOOK-ORDER): This is a special instance of HARD-TO-FOLLOW that we like to highlight. What order do the notebooks need to be run in? Do they depend on each other? If so, is the dependency indicated in the names?\n",
    "\n",
    "## The Easydata Way\n",
    "\n",
    "Here are a few ways that we use to make sure that the story stays clear and uncluttered and the point shine through. \n",
    "\n",
    "\n",
    "### Default Better Principles\n",
    "\n",
    "* **Keep the prose close to the code**: Keep the explanation of what something does right next to it. \n",
    "    * **Use Python Docstrings**: In Python, all functions should have docstrings. It reflects their higher calling. Hitting `Shift-Tab` from a notebook makes it easy to figure out what a function is supposed to be doing right there, in a moment. A function without a docstring is naked. Help the functions stay decent.\n",
    "    * **Tell stories with Jupyter Notebooks**: Mix code and prose using Notebooks. They are fantastic for interweaving code and prose.\n",
    "* **Use a Notebook naming convention**: Indicate what order to run notebooks in\n",
    "\n",
    "* **Automate everything that's not essential to the story**: \n",
    "    * **Automate your workflow**: Automate any task you do repeatedly.\n",
    "    * **Put helper and utility functions in modules**: Ruthlessly take code out of your notebooks and put it into modules\n",
    "* **Cut-cut-cut. Iterate.**: Every time you come back to your code, make it reproducibly better. If anything is confusing, add documentation. If something isn't needed anymore, delete it. Cut. Edit. Iterate."
   ]
  },
  {
   "cell_type": "code",
   "execution_count": null,
   "id": "59267631",
   "metadata": {},
   "outputs": [],
   "source": [
    "%load_ext autoreload\n",
    "%autoreload 2"
   ]
  },
  {
   "cell_type": "markdown",
   "id": "62304825",
   "metadata": {},
   "source": [
    "### Default Better Principle: Put helper and utility functions in modules\n",
    "\n",
    "To see how Easydata can help with these principles, let's first take a look at the editable `src` module. We've been using this all along. But here's the deal, you can edit something in this module, and have it automagically change here, in the notebook. Let's see this work in practice."
   ]
  },
  {
   "cell_type": "code",
   "execution_count": null,
   "id": "a3a64769",
   "metadata": {},
   "outputs": [],
   "source": [
    "from src.quest import quest_instruction"
   ]
  },
  {
   "cell_type": "code",
   "execution_count": null,
   "id": "5cb7717f",
   "metadata": {},
   "outputs": [],
   "source": [
    "quest_instruction()"
   ]
  },
  {
   "cell_type": "markdown",
   "id": "1e339740",
   "metadata": {},
   "source": [
    "So...what exactly does this function do? Could I `Shift-Tab` to find out? `help` will tell give us the docstring back:"
   ]
  },
  {
   "cell_type": "code",
   "execution_count": null,
   "id": "205dcb2a",
   "metadata": {},
   "outputs": [],
   "source": [
    "help(quest_instruction)"
   ]
  },
  {
   "cell_type": "markdown",
   "id": "3bf88593",
   "metadata": {},
   "source": [
    "Well. That's not great. There's no docstring. Let's fix that. And voila:"
   ]
  },
  {
   "cell_type": "code",
   "execution_count": null,
   "id": "835cfda7",
   "metadata": {},
   "outputs": [],
   "source": [
    "help(quest_instruction)"
   ]
  },
  {
   "cell_type": "markdown",
   "id": "108889fc",
   "metadata": {},
   "source": [
    "You can even go ahead and edit the function itself. If you forget what the `quest_instruction` originally was you can use `git` to remind you :)."
   ]
  },
  {
   "cell_type": "markdown",
   "id": "c665b8df",
   "metadata": {},
   "source": [
    "Run `make story_challenge`"
   ]
  }
 ],
 "metadata": {
  "kernelspec": {
   "display_name": "Python [conda env:easydata-tutorial] *",
   "language": "python",
   "name": "conda-env-easydata-tutorial-py"
  },
  "language_info": {
   "codemirror_mode": {
    "name": "ipython",
    "version": 3
   },
   "file_extension": ".py",
   "mimetype": "text/x-python",
   "name": "python",
   "nbconvert_exporter": "python",
   "pygments_lexer": "ipython3",
   "version": "3.7.11"
  }
 },
 "nbformat": 4,
 "nbformat_minor": 5
}
