{
 "cells": [
  {
   "cell_type": "markdown",
   "id": "d988e090",
   "metadata": {},
   "source": [
    "# Stage 2: Where do I go next?"
   ]
  },
  {
   "cell_type": "markdown",
   "id": "b672244e",
   "metadata": {},
   "source": [
    "If you're testing this out...ironically: Skip this...for now.There won't be much if any code parts  here."
   ]
  },
  {
   "cell_type": "markdown",
   "id": "dc740d68",
   "metadata": {},
   "source": [
    "Check that the following cells display the indicated outputs"
   ]
  },
  {
   "cell_type": "code",
   "execution_count": null,
   "id": "c73d114a",
   "metadata": {},
   "outputs": [],
   "source": [
    "from src import Paths"
   ]
  },
  {
   "cell_type": "code",
   "execution_count": null,
   "id": "02de21b9",
   "metadata": {},
   "outputs": [],
   "source": [
    "Paths.instance['project_path']"
   ]
  },
  {
   "cell_type": "code",
   "execution_count": null,
   "id": "7baec9b1",
   "metadata": {},
   "outputs": [],
   "source": [
    "!make"
   ]
  },
  {
   "cell_type": "markdown",
   "id": "6da69c8d",
   "metadata": {},
   "source": [
    "## Below here be DRAGONS...notes to myself\n",
    "\n",
    "\n",
    "## The Map\n",
    "\n",
    "The map, the lay of the land, where to go to find things.\n",
    "\n",
    "\n",
    "\n",
    "### Naming Conventions\n",
    "\n",
    "It doesn't matter how good your map is, if it's impossible to read, no one can understand it. Use names that are both machine readable (no weird characters like the existing name of this notebook) and human understandable.\n",
    "\n",
    "**Task** Rename this notebook something that follows the [Easydata notebook naming convention](https://cookiecutter-easydata.readthedocs.io/en/latest/00-xyz-sample-notebook/), for example: \"01-Begin-the-Quest.ipynb\". (FYI: You'll be required to start the name with \"01\" to finish this stage).\n",
    "\n",
    "### The Project Organization\n",
    "\n",
    "The project organization is the next place to look for things. It's on the README.md\n",
    "\n",
    "**Task** Take a look through the project organization to find the next step in your quest.\n",
    "\n",
    "\n",
    "* Work through a stage\n",
    "* Last step: Survey -> Discussion\n",
    "\n",
    "* Maps/lay of the land\n",
    "    * Project template\n",
    "    * Naming conventions: including Notebooks\n",
    "\n",
    "\n",
    "* Add getting a GitHub account to the mix (so you can fork the repo)?\n",
    "\n",
    "### Quest steps\n",
    "1. README.md -> The canonical starting place for all repos\n",
    "2. am_i_ready.py -> Check that you have the minimum requirements for starting\n",
    "3. make begin -> Make you feel welcome\n",
    "4. Typeform (This could be done before we even begin...in the first few minutes?)\n",
    "\n",
    "\n",
    "5. Find this poorly named notebook and update the name to \"01-Begin-the-Quest\" (LOST-IN-THE-NAME-ZOO, NOTEBOOK-ORDER)\n",
    "6. Look at project organization -> give directions for where to find things, have a comment that points you to the...\n",
    "7. Have a place for all of the codewords: quest_codewords.md ->\n",
    "8. python quest/map_challenge.py -> Direct to end of stage Typeform\n",
    "\n",
    "\n",
    "\n",
    "Wikipedia: https://en.wikipedia.org/wiki/Naming_convention_(programming)\n",
    "\n",
    "\n",
    "* **Name things well**: When it comes to naming, well, it's a hard problem (Queue [comp sci joke]()). Keep it simple and understandable to both humans and machines. Take that split second to name a file, function, module, anything really, in a way that makes it easy to understand what it is from the name. And when future you has trouble figuring out what something is, re-name it. Follow convention when possible (e.g. Python has conventions for this). Don't ever use an `Untitled.ipynb` notebook.\n",
    "\n",
    "Info on Licsenses"
   ]
  },
  {
   "cell_type": "code",
   "execution_count": null,
   "id": "d7b23e03",
   "metadata": {},
   "outputs": [],
   "source": []
  }
 ],
 "metadata": {
  "kernelspec": {
   "display_name": "Python [conda env:easydata-tutorial] *",
   "language": "python",
   "name": "conda-env-easydata-tutorial-py"
  },
  "language_info": {
   "codemirror_mode": {
    "name": "ipython",
    "version": 3
   },
   "file_extension": ".py",
   "mimetype": "text/x-python",
   "name": "python",
   "nbconvert_exporter": "python",
   "pygments_lexer": "ipython3",
   "version": "3.7.11"
  }
 },
 "nbformat": 4,
 "nbformat_minor": 5
}
