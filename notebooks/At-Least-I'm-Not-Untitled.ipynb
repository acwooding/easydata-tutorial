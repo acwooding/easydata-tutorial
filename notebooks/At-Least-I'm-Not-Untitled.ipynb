{
 "cells": [
  {
   "cell_type": "markdown",
   "id": "e42969b6",
   "metadata": {},
   "source": [
    "# Stage 1: Where do I start?"
   ]
  },
  {
   "cell_type": "markdown",
   "id": "76d5572a",
   "metadata": {},
   "source": [
    "## Welcome and Basic Setup"
   ]
  },
  {
   "cell_type": "markdown",
   "id": "c7b7c2c2",
   "metadata": {},
   "source": [
    "**Task to complete** Convention dictates to start at the README. Begin there. Go on. If you haven't yet, take a read. And follow the instructions to make sure your setup is complete. That's the place to start before even opening this notebook. "
   ]
  },
  {
   "cell_type": "markdown",
   "id": "42f7502a",
   "metadata": {},
   "source": [
    "Continue once you have completed the initial setup. \n",
    "\n",
    "You'll know you're done that step once you have your first codeword!"
   ]
  },
  {
   "cell_type": "markdown",
   "id": "11aa6171",
   "metadata": {},
   "source": [
    "## The Map\n",
    "\n",
    "The map, the lay of the land, where to go to find things. "
   ]
  },
  {
   "cell_type": "markdown",
   "id": "823b7727",
   "metadata": {},
   "source": [
    "### Naming Conventions"
   ]
  },
  {
   "cell_type": "markdown",
   "id": "534ec3d6",
   "metadata": {},
   "source": [
    "It doesn't matter how good your map is, if it's impossible to read, no one can understand it. Use names that are both machine readable (no weird characters like the existing name of this notebook) and human understandable.\n",
    "\n",
    "**Task** Rename this notebook something that follows the [Easydata notebook naming convention](https://cookiecutter-easydata.readthedocs.io/en/latest/00-xyz-sample-notebook/), for example: \"01-Begin-the-Quest.ipynb\". (FYI: You'll be required to start the name with \"01\" to finish this stage)."
   ]
  },
  {
   "cell_type": "markdown",
   "id": "4425207f",
   "metadata": {},
   "source": [
    "### The Project Organization\n",
    "\n",
    "The project organization is the next place to look for things. It's on the README.md"
   ]
  },
  {
   "cell_type": "markdown",
   "id": "c363a206",
   "metadata": {},
   "source": [
    "**Task** Take a look through the project organization to find the next step in your quest."
   ]
  },
  {
   "cell_type": "markdown",
   "id": "3547ef8e",
   "metadata": {},
   "source": [
    "## Below here be DRAGONS...notes to myself"
   ]
  },
  {
   "cell_type": "markdown",
   "id": "56920f1d",
   "metadata": {},
   "source": [
    "* Work through a stage\n",
    "* Last step: Survey -> Discussion"
   ]
  },
  {
   "cell_type": "markdown",
   "id": "33711d03",
   "metadata": {},
   "source": [
    "Ideas to cover: \n",
    "* Welcome or not\n",
    "    * README.md\n",
    "    * Code licenses\n",
    "\n",
    "* Maps/lay of the land\n",
    "    * Project template\n",
    "    * Naming conventions: including Notebooks\n",
    "\n",
    "* WHERE-DO-I-START\n",
    "* NO-CODE-LICENSE\n",
    "* LOST-IN-THE-NAME-ZOO\n",
    "* NOTEBOOK-ORDER"
   ]
  },
  {
   "cell_type": "markdown",
   "id": "176572c0",
   "metadata": {},
   "source": [
    "## TODOs:\n",
    "* Clean up README.md\n",
    "* Add getting a GitHub account to the mix (so you can fork the repo)?\n",
    "* Move project layout to docs/project_layout.md and getting started instructions to docs/getting_started.md or something like that"
   ]
  },
  {
   "cell_type": "markdown",
   "id": "137c3ef7",
   "metadata": {},
   "source": [
    "### Quest steps\n",
    "1. README.md -> The canonical starting place for all repos\n",
    "2. am_i_ready.py -> Check that you have the minimum requirements for starting\n",
    "3. make begin -> Make you feel welcome\n",
    "4. Typeform (This could be done before we even begin...in the first few minutes?)\n",
    "5. Find this poorly named notebook and update the name to \"01-Begin-the-Quest\" (LOST-IN-THE-NAME-ZOO, NOTEBOOK-ORDER)\n",
    "6. Look at project organization -> give directions for where to find things, have a comment that points you to the... \n",
    "7. Have a place for all of the codewords: quest_codewords.md -> \n",
    "8. python quest/map_challenge.py -> Direct to end of stage Typeform\n"
   ]
  },
  {
   "cell_type": "code",
   "execution_count": null,
   "id": "1bdf9769",
   "metadata": {},
   "outputs": [],
   "source": []
  },
  {
   "cell_type": "code",
   "execution_count": null,
   "id": "d687d3f0",
   "metadata": {},
   "outputs": [],
   "source": []
  }
 ],
 "metadata": {
  "kernelspec": {
   "display_name": "Python [conda env:easydata-tutorial] *",
   "language": "python",
   "name": "conda-env-easydata-tutorial-py"
  },
  "language_info": {
   "codemirror_mode": {
    "name": "ipython",
    "version": 3
   },
   "file_extension": ".py",
   "mimetype": "text/x-python",
   "name": "python",
   "nbconvert_exporter": "python",
   "pygments_lexer": "ipython3",
   "version": "3.7.11"
  }
 },
 "nbformat": 4,
 "nbformat_minor": 5
}
